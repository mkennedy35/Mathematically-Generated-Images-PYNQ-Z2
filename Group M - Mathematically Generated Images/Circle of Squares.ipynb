{
 "cells": [
  {
   "cell_type": "markdown",
   "metadata": {},
   "source": [
    "# Circle of Squares"
   ]
  },
  {
   "cell_type": "markdown",
   "metadata": {},
   "source": [
    "The following design is an example of generative art, wherein a regular polygon is drawn and then rotated around a central point."
   ]
  },
  {
   "cell_type": "markdown",
   "metadata": {},
   "source": [
    "The following cell defines the libraries that we need to import"
   ]
  },
  {
   "cell_type": "code",
   "execution_count": null,
   "metadata": {},
   "outputs": [],
   "source": [
    "import matplotlib.pyplot as plt\n",
    "from math import *\n",
    "from ipywidgets import *"
   ]
  },
  {
   "cell_type": "markdown",
   "metadata": {},
   "source": [
    "The cell below defines the starting point of our square (0,0), as well as the starting angle in degrees, and the width of the pensize. the count determines the amount of squares and will be converted to an IP core in the hardware section"
   ]
  },
  {
   "cell_type": "code",
   "execution_count": null,
   "metadata": {},
   "outputs": [],
   "source": [
    "x0 = 0\n",
    "y0 = 0\n",
    "ang = 0\n",
    "width = 0.1"
   ]
  },
  {
   "cell_type": "markdown",
   "metadata": {},
   "source": [
    "The third cell provides the final drawing of the art piece by drawing a series of rectangles around the center point. it also allows the user to select the amount of times they want the square to cycle around the center point. Once a value has been set, press the \"Run Interact\" button to run the code to draw the image."
   ]
  },
  {
   "cell_type": "code",
   "execution_count": null,
   "metadata": {},
   "outputs": [],
   "source": [
    "\n",
    "rect1 = plt.Rectangle((x0, y0), 1, 1, fill = None, lw =width)\n",
    "def Update (Iterations):\n",
    "    count = 90\n",
    "    rounds = int(360/Iterations)\n",
    "    for ang in range (0,360, rounds):\n",
    "        rect2 = plt.Rectangle((x0,y0),1,1,angle = ang, fill = None, lw = width)\n",
    "        plt.gca().add_patch(rect2)\n",
    "        plt.axis('scaled')\n",
    "        \n",
    "\n",
    "ite = widgets.IntSlider (min = 1, max = 360, step = 5, value =180)\n",
    "interact_manual(Update, Iterations = ite)\n",
    "plt.show()"
   ]
  },
  {
   "cell_type": "markdown",
   "metadata": {},
   "source": [
    "Assuming the user has enough processing power, it is possible to see this change occur in real time so long as the run button is active. Sadly, if processing power is too low, the change will appear much more gradually. For example, this will run significantly better on a desktop processor than on the PS of the PYNQ board."
   ]
  }
 ],
 "metadata": {
  "kernelspec": {
   "display_name": "Python 3",
   "language": "python",
   "name": "python3"
  },
  "language_info": {
   "codemirror_mode": {
    "name": "ipython",
    "version": 3
   },
   "file_extension": ".py",
   "mimetype": "text/x-python",
   "name": "python",
   "nbconvert_exporter": "python",
   "pygments_lexer": "ipython3",
   "version": "3.6.5"
  }
 },
 "nbformat": 4,
 "nbformat_minor": 2
}
