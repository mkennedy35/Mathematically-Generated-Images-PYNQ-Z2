{
 "cells": [
  {
   "cell_type": "markdown",
   "metadata": {},
   "source": [
    "# Koch Snowflake"
   ]
  },
  {
   "cell_type": "markdown",
   "metadata": {},
   "source": [
    "## Background"
   ]
  },
  {
   "cell_type": "markdown",
   "metadata": {},
   "source": [
    "The Koch snowflake is a mathematical curve representing the Koch curve. it can be built by starting with an equilateral triangle, removing the inner third of each side, and building a seperate triangle where the side was removed. this process can be repeated indefinitely, creating a surface with a finite area, but an infinite perimeter."
   ]
  },
  {
   "cell_type": "markdown",
   "metadata": {},
   "source": [
    "The image below shows an example of a Koch snowflake."
   ]
  },
  {
   "cell_type": "markdown",
   "metadata": {},
   "source": [
    "<img src = \"images/Snowflake.png\" style = \"width:368px; height:330px\"/>"
   ]
  },
  {
   "cell_type": "markdown",
   "metadata": {},
   "source": [
    "## Software Version"
   ]
  },
  {
   "cell_type": "markdown",
   "metadata": {},
   "source": [
    "The code below draws the Koch Snowflake using Python's matplotlib library."
   ]
  },
  {
   "cell_type": "markdown",
   "metadata": {},
   "source": [
    "The first cell imports the required libraries."
   ]
  },
  {
   "cell_type": "code",
   "execution_count": null,
   "metadata": {},
   "outputs": [],
   "source": [
    "import random as rd\n",
    "import numpy as np\n",
    "import matplotlib.pyplot as plt\n",
    "import matplotlib.patches as patch\n",
    "from math import *\n",
    "from ipywidgets import *"
   ]
  },
  {
   "cell_type": "markdown",
   "metadata": {},
   "source": [
    "The second cell defines some key values that will be used in the code.\n",
    "sin60 is used to define the height of the initial triangle, followed by the heights of the added triangles at every iteration.\n",
    "xdata and ydata represent the starting points for X and Y"
   ]
  },
  {
   "cell_type": "code",
   "execution_count": null,
   "metadata": {},
   "outputs": [],
   "source": [
    "sin60 = sqrt(3)/2\n",
    "count = int(1)\n",
    "xbase = [0, 0.5, 1, 0]\n",
    "ybase = [0, sin60, 0, 0]"
   ]
  },
  {
   "cell_type": "markdown",
   "metadata": {},
   "source": [
    "The third cell defines the removal of the middle third of each line, as well as forming the basis for the next iteration."
   ]
  },
  {
   "cell_type": "code",
   "execution_count": null,
   "metadata": {},
   "outputs": [],
   "source": [
    "def linebreak(pos, xdata, ydata):\n",
    "\n",
    "    x0 = xbase[pos]\n",
    "    x1 = xbase[pos+1]\n",
    "    y0 = ybase[pos]\n",
    "    y1 = ybase[pos+1]\n",
    "    xvec = x1 - x0\n",
    "    yvec = y1 - y0\n",
    "\n",
    "    xbase.insert(pos+1, x0 + xvec/3)\n",
    "    ybase.insert(pos+1, y0 + yvec/3)\n",
    "\n",
    "    xbase.insert(pos+2, x0 + xvec/2 - yvec*sin60/3)\n",
    "    ybase.insert(pos+2, y0 + xvec*sin60/3 + yvec/2)\n",
    "\n",
    "    xbase.insert(pos+3, x0 + 2*xvec/3)\n",
    "    ybase.insert(pos+3, y0 + 2*yvec/3)"
   ]
  },
  {
   "cell_type": "markdown",
   "metadata": {},
   "source": [
    "The fourth cell defines the addition of the new equilateral triangle."
   ]
  },
  {
   "cell_type": "code",
   "execution_count": null,
   "metadata": {},
   "outputs": [],
   "source": [
    "def koch_iteration(xbase, ybase):\n",
    "\n",
    "    pos = 0\n",
    "    while pos < len(xbase) - 1:\n",
    "        linebreak(pos, xbase, ybase)\n",
    "        pos += 4"
   ]
  },
  {
   "cell_type": "markdown",
   "metadata": {},
   "source": [
    "The fifth cell then provides the final Koch snowflake, whilst allowing the user to define the amount of iterations they want it to go through."
   ]
  },
  {
   "cell_type": "code",
   "execution_count": null,
   "metadata": {},
   "outputs": [],
   "source": [
    "fig, ax = plt.subplots()\n",
    "ax.axis('equal')\n",
    "ax.axis('off')\n",
    "ax.axes.set_xlim(-1.5,1.5)\n",
    "ax.axes.set_ylim(-1.5, 2.0)\n",
    "fig.tight_layout()\n",
    "plt.show\n",
    "\n",
    "for i in range(1,4):\n",
    "    koch_iteration(xbase, ybase)\n",
    "    ax.plot(xbase, ybase)\n",
    "    count +=1\n",
    "    plt.show\n"
   ]
  },
  {
   "cell_type": "markdown",
   "metadata": {},
   "source": [
    "The final cell will be replaced by a hardware integrated method, as it allows displays the area of the final snowflake's area."
   ]
  },
  {
   "cell_type": "code",
   "execution_count": null,
   "metadata": {},
   "outputs": [],
   "source": [
    "k = int(count+1)\n",
    "totalarea = 0\n",
    "for i in range (1,k): \n",
    "    fours = 4**(i-1)\n",
    "    nines = 9**i\n",
    "    pre = (2**2)*(sqrt(3))/4\n",
    "    area = k* (pre*(3*fours/nines))\n",
    "    totalarea +=area\n",
    "\n",
    "print (totalarea)"
   ]
  },
  {
   "cell_type": "markdown",
   "metadata": {},
   "source": [
    "## Hardware Version"
   ]
  },
  {
   "cell_type": "markdown",
   "metadata": {},
   "source": [
    "To simplify some of the calculations, an IP core was designed that would create the loop for k, instead of calculating it in the software. the loop adder was based off of the Simple Adder that was shown in Lab 3, though with the output serving as one of the inputs instead. so long as Input A remains constant, this adder will increase linearly."
   ]
  },
  {
   "cell_type": "markdown",
   "metadata": {},
   "source": [
    "<img src = \"images/Sysgen.png\" style = \"width:825px; height:464px\"/>"
   ]
  },
  {
   "cell_type": "markdown",
   "metadata": {},
   "source": [
    "This loop will be used on the count integer from the software version."
   ]
  },
  {
   "cell_type": "markdown",
   "metadata": {},
   "source": [
    "The following cell imports the Overlay class from the Pynq library. Following this, it creates a new overlay and parse the design to access the contents of said overlay. the required libraries are also imported."
   ]
  },
  {
   "cell_type": "code",
   "execution_count": null,
   "metadata": {},
   "outputs": [],
   "source": [
    "from pynq import Overlay\n",
    "ol = Overlay(\"design_loop_wrapper.bit\")\n",
    "import numpy as np\n",
    "import matplotlib.pyplot as plt\n",
    "import matplotlib.patches as patch\n",
    "from math import *\n",
    "from ipywidgets import *"
   ]
  },
  {
   "cell_type": "markdown",
   "metadata": {},
   "source": [
    "the proceeding cell returns a report of the overlay which will show the IP core under the \"IP Blocks\" heading"
   ]
  },
  {
   "cell_type": "code",
   "execution_count": null,
   "metadata": {},
   "outputs": [],
   "source": [
    "ol?"
   ]
  },
  {
   "cell_type": "markdown",
   "metadata": {},
   "source": [
    "the next cell simplifies the core's name so that it can be easier to reference"
   ]
  },
  {
   "cell_type": "code",
   "execution_count": null,
   "metadata": {},
   "outputs": [],
   "source": [
    "Loop = ol.looped_add_0"
   ]
  },
  {
   "cell_type": "markdown",
   "metadata": {},
   "source": [
    "the next cells are relatively unchanged from the software implementation"
   ]
  },
  {
   "cell_type": "code",
   "execution_count": null,
   "metadata": {},
   "outputs": [],
   "source": [
    "sin60 = sqrt(3)/2\n",
    "xbase = [0, 0.5, 1, 0]\n",
    "ybase = [0, sin60, 0, 0]"
   ]
  },
  {
   "cell_type": "code",
   "execution_count": null,
   "metadata": {},
   "outputs": [],
   "source": [
    "def linebreak(pos, xdata, ydata):\n",
    "\n",
    "    x0 = xbase[pos]\n",
    "    x1 = xbase[pos+1]\n",
    "    y0 = ybase[pos]\n",
    "    y1 = ybase[pos+1]\n",
    "    xvec = x1 - x0\n",
    "    yvec = y1 - y0\n",
    "\n",
    "    xbase.insert(pos+1, x0 + xvec/3)\n",
    "    ybase.insert(pos+1, y0 + yvec/3)\n",
    "\n",
    "    xbase.insert(pos+2, x0 + xvec/2 - yvec*sin60/3)\n",
    "    ybase.insert(pos+2, y0 + xvec*sin60/3 + yvec/2)\n",
    "\n",
    "    xbase.insert(pos+3, x0 + 2*xvec/3)\n",
    "    ybase.insert(pos+3, y0 + 2*yvec/3)"
   ]
  },
  {
   "cell_type": "markdown",
   "metadata": {},
   "source": [
    "The following cell defines a function to call on the loop."
   ]
  },
  {
   "cell_type": "code",
   "execution_count": null,
   "metadata": {},
   "outputs": [],
   "source": [
    "def Looped (count):\n",
    "    Loop.write (0x00, int(count))\n",
    "    K = Loop.read(0x08)\n",
    "    return K"
   ]
  },
  {
   "cell_type": "markdown",
   "metadata": {},
   "source": [
    "The following cells remain unchanged from the previous version."
   ]
  },
  {
   "cell_type": "code",
   "execution_count": null,
   "metadata": {},
   "outputs": [],
   "source": [
    "def koch_iteration(xbase, ybase):\n",
    "\n",
    "    pos = 0\n",
    "    while pos < len(xbase) - 1:\n",
    "        linebreak(pos, xbase, ybase)\n",
    "        pos += 4"
   ]
  },
  {
   "cell_type": "code",
   "execution_count": null,
   "metadata": {},
   "outputs": [],
   "source": [
    "fig, ax = plt.subplots()\n",
    "ax.axis('equal')\n",
    "ax.axis('off')\n",
    "ax.axes.set_xlim(-1.5,1.5)\n",
    "ax.axes.set_ylim(-1.5, 2.0)\n",
    "fig.tight_layout()\n",
    "plt.show\n",
    "\n",
    "for i in range(1,4):\n",
    "    koch_iteration(xbase, ybase)\n",
    "    ax.plot(xbase, ybase)\n",
    "    Looped(1)\n",
    "    plt.show"
   ]
  },
  {
   "cell_type": "markdown",
   "metadata": {},
   "source": [
    "The cell below provides a calculation of the total area of this triangle, using the loop function to increase the count at each step."
   ]
  },
  {
   "cell_type": "code",
   "execution_count": null,
   "metadata": {},
   "outputs": [],
   "source": [
    "k = Looped(4)+1\n",
    "totalarea = 0\n",
    "for i in range (1,k): \n",
    "    fours = 4**(i-1)\n",
    "    nines = 9**i\n",
    "    pre = (2**2)*(sqrt(3))/4\n",
    "    area = k* (pre*(3*fours/nines))\n",
    "    totalarea += area\n",
    "\n",
    "print (totalarea)"
   ]
  },
  {
   "cell_type": "markdown",
   "metadata": {},
   "source": [
    "The difference in value between the software and hardware implementations is caused by the hardware counting one iteration less than the software, this can be rectified by adding 1 to the looped value as shown in the above code cell."
   ]
  }
 ],
 "metadata": {
  "kernelspec": {
   "display_name": "Python 3",
   "language": "python",
   "name": "python3"
  },
  "language_info": {
   "codemirror_mode": {
    "name": "ipython",
    "version": 3
   },
   "file_extension": ".py",
   "mimetype": "text/x-python",
   "name": "python",
   "nbconvert_exporter": "python",
   "pygments_lexer": "ipython3",
   "version": "3.6.5"
  }
 },
 "nbformat": 4,
 "nbformat_minor": 2
}
