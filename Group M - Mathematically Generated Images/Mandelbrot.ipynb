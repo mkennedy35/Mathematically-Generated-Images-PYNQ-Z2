{
 "cells": [
  {
   "cell_type": "markdown",
   "metadata": {},
   "source": [
    "# Mandelbrot Set"
   ]
  },
  {
   "cell_type": "markdown",
   "metadata": {},
   "source": [
    "## Background"
   ]
  },
  {
   "cell_type": "markdown",
   "metadata": {},
   "source": [
    "The Mandelbrot Set is a set of values in the complex plane where the function $z_{n+1} = z_n^2 + c$ does not diverge when iterated from $z = 0$. A complex number $c$ is a member of the Mandelbrot set if the absolute value of $z_n$ remains bounded with repeated iterations starting from $z_0 = 0$."
   ]
  },
  {
   "cell_type": "markdown",
   "metadata": {},
   "source": [
    "The cell below shows a plot of the Mandelbrot set. Points coloured in black belong to the set, and all other points do not."
   ]
  },
  {
   "cell_type": "markdown",
   "metadata": {},
   "source": [
    "<img src=\"images/mandel.png\" style=\"width:300px;height:250px\"/>"
   ]
  },
  {
   "cell_type": "markdown",
   "metadata": {},
   "source": [
    "## Software Version"
   ]
  },
  {
   "cell_type": "markdown",
   "metadata": {},
   "source": [
    "The code below draws the mandelbrot set using Python's matplotlib library. The code executes quite slowly, especially the third cell where the function mandelbrot is called for each point of the plotted image. This is due to the very large amount of calculations performed, as calculations are done for many iterations over each pixel of the image."
   ]
  },
  {
   "cell_type": "markdown",
   "metadata": {},
   "source": [
    "This first cell imports the matplotlib and numpy libraries."
   ]
  },
  {
   "cell_type": "code",
   "execution_count": null,
   "metadata": {},
   "outputs": [],
   "source": [
    "import matplotlib.pyplot as plt\n",
    "import numpy\n",
    "from ipywidgets import *"
   ]
  },
  {
   "cell_type": "markdown",
   "metadata": {},
   "source": [
    "The second cell defines the function mandelbrot."
   ]
  },
  {
   "cell_type": "code",
   "execution_count": null,
   "metadata": {},
   "outputs": [],
   "source": [
    "def mandelbrot(Re,Im,max_iter):\n",
    "    c = complex(Re,Im)\n",
    "    z = complex(0,0)\n",
    "    for i in range(max_iter):\n",
    "        z = z*z + c\n",
    "        if (abs(z) > 2):\n",
    "            return i\n",
    "    return max_iter"
   ]
  },
  {
   "cell_type": "markdown",
   "metadata": {},
   "source": [
    "The third cell creates the plot for the Mandelbrot Set."
   ]
  },
  {
   "cell_type": "markdown",
   "metadata": {},
   "source": [
    "The numbers of iterations that will be run for each pixel can be adjusted using a slider widget. This ranges from 5 to 50 to allow the user to see the effect of altering the number of iterations."
   ]
  },
  {
   "cell_type": "markdown",
   "metadata": {},
   "source": [
    "Set the iteration value using the slider and then run by pressing the button."
   ]
  },
  {
   "cell_type": "code",
   "execution_count": null,
   "metadata": {},
   "outputs": [],
   "source": [
    "def update(Iterations):\n",
    "    cols = 200\n",
    "    rows = 200\n",
    "    result = numpy.zeros([rows,cols])\n",
    "    for row_index, Re in enumerate(numpy.linspace(-2,1,num=rows)):\n",
    "        for col_index, Im in enumerate(numpy.linspace(-1,1,num=cols)):\n",
    "            result[row_index,col_index] = mandelbrot(Re,Im,Iterations)\n",
    "    plt.figure(dpi=150)\n",
    "    plt.imshow(result.T,cmap=\"jet\",extent=[-2,1,-1,1])\n",
    "    plt.xlabel(\"Re\")\n",
    "    plt.ylabel(\"Im\")\n",
    "    plt.show()\n",
    "\n",
    "ite = widgets.IntSlider(min=5,max=50,step=1,value=25)\n",
    "interact_manual(update, Iterations=ite);"
   ]
  },
  {
   "cell_type": "markdown",
   "metadata": {},
   "source": [
    "The above image is the plot of the Mandelbrot set. The red area represents complex numbers that are in the Mandelbrot set, and all other colours represent complex numbers not in the set."
   ]
  },
  {
   "cell_type": "markdown",
   "metadata": {},
   "source": [
    "## Hardware Version"
   ]
  },
  {
   "cell_type": "markdown",
   "metadata": {},
   "source": [
    "Some of the more mathematically intensive processes will be \"off-loaded\" to the Programmable Logic (PL) of the Pynq Z2 board. This will be done by creating Intellectual Property (IP) cores to perform the specific tasks. IP cores were created to do the tasks in lines 5 and 6 of the second cell. One IP core was created to approximate the magnitude of a complex number.  The second IP core is designed to find the square of a complex number. "
   ]
  },
  {
   "cell_type": "markdown",
   "metadata": {},
   "source": [
    "### Magnitude IP Core"
   ]
  },
  {
   "cell_type": "markdown",
   "metadata": {},
   "source": [
    "The IP core for finding the magnitude of a complex number is done using the Alpha max plus beta min algorithm [1]. This does not give a completely accurate result, but it is a fast operation that can be performed easily on FPGA hardware. The algorithm is faster as it avoids performing squaring or square root operations. The approximation is:"
   ]
  },
  {
   "cell_type": "markdown",
   "metadata": {},
   "source": [
    "<img src=\"images/abEquation.png\" style=\"width:350px;height:60px\"/>"
   ]
  },
  {
   "cell_type": "markdown",
   "metadata": {},
   "source": [
    "Where Max is the maximum absolute value of a and b, and Min is the minimum absolute value of a and b."
   ]
  },
  {
   "cell_type": "markdown",
   "metadata": {},
   "source": [
    "The IP core design is shown below."
   ]
  },
  {
   "cell_type": "markdown",
   "metadata": {},
   "source": [
    "<img src=\"images/magnitude.png\"/>"
   ]
  },
  {
   "cell_type": "markdown",
   "metadata": {},
   "source": [
    "The IP core was designed in System Generator as the block diagram approach makes it easy to see and understand the flow of the design. The design takes in two inputs, for the Real and Imaginary parts of the complex number, respectively. A Relational block is used to compare the two inputs, and returns a boolean true or false, based on whether or not the real input is greater than the imaginary input. The output of this block is fed into two multiplexers which select the maximum and minimum of the two values, respectively. \n",
    "The maximum value is then multiplied by Alpha, and the minimum by Beta. The optimum values of Alpha and Beta for this algorithm are as shown below."
   ]
  },
  {
   "cell_type": "markdown",
   "metadata": {},
   "source": [
    "<img src=\"images/alphabeta.png\" style=\"width:250px;height:100px\"/>"
   ]
  },
  {
   "cell_type": "markdown",
   "metadata": {},
   "source": [
    "These values are used in the CMult blocks, and have been rounded to 4 decimal places. This will reduce the wordlength required to represent them and therefore will minimise FPGA resources required. The results of the two CMult blocks are then summed, giving the final result for the approximation of the magnitude."
   ]
  },
  {
   "cell_type": "markdown",
   "metadata": {},
   "source": [
    "This example takes the input $(1 + i)$ and gives the approximation 1.358. The exact value of magnitude is 1.414, meaning the margin of error in the approximation is 3.96%. This error is acceptable for our program, as we only need to check if the magnitude is greater than 2."
   ]
  },
  {
   "cell_type": "markdown",
   "metadata": {},
   "source": [
    "### Complex Square IP Core"
   ]
  },
  {
   "cell_type": "markdown",
   "metadata": {},
   "source": [
    "The IP core design for finding the square of a complex number is shown below."
   ]
  },
  {
   "cell_type": "markdown",
   "metadata": {},
   "source": [
    "<img src=\"images/compSquare.png\"/>"
   ]
  },
  {
   "cell_type": "markdown",
   "metadata": {},
   "source": [
    "The design was derived by considering the square of a complex number in the form $(A + iB)$. Squaring this complex number gives the result $(A^{2} + B^{2}) +i(2AB)$. The design implements this equation to give the real and imaginary part of the complex square, where the real part is $(A^{2} + B^{2})$ and the imaginary part is $2AB$."
   ]
  },
  {
   "cell_type": "markdown",
   "metadata": {},
   "source": [
    "### IP Core Generation"
   ]
  },
  {
   "cell_type": "markdown",
   "metadata": {},
   "source": [
    "The two previously shown designs were added as IP cores to a custom overlay in Vivado. The block diagram for the overlay is shown below."
   ]
  },
  {
   "cell_type": "markdown",
   "metadata": {},
   "source": [
    "<img src=\"images/blockdiagram.png\"/>"
   ]
  },
  {
   "cell_type": "markdown",
   "metadata": {},
   "source": [
    "This shows the two IP cores, compsquare and magnitude, as part of the overlay."
   ]
  },
  {
   "cell_type": "markdown",
   "metadata": {},
   "source": [
    "After validating the design, the HDL wrapper was created in Vivado, before creating the bitstream (.bit), hardware hand-off (.hwh) and Tcl files. These three files were uploaded to the storage of the PYNQ board for use in this project."
   ]
  },
  {
   "cell_type": "markdown",
   "metadata": {},
   "source": [
    "### Program"
   ]
  },
  {
   "cell_type": "markdown",
   "metadata": {},
   "source": [
    "The below cell imports the Overlay class from the pynq library, and then creates a new overlay and parses the design in order to understand the contents of the overlay. Also imported here are the matplotlib and numpy libraries for Python."
   ]
  },
  {
   "cell_type": "code",
   "execution_count": null,
   "metadata": {},
   "outputs": [],
   "source": [
    "from pynq import Overlay\n",
    "ol = Overlay(\"design_mandel_wrapper.bit\")\n",
    "import matplotlib.pyplot as plt\n",
    "import numpy\n",
    "from ipywidgets import *"
   ]
  },
  {
   "cell_type": "markdown",
   "metadata": {},
   "source": [
    "The cell below returns a report of the overlay. When run, it shows both IP cores under the \"IP Blocks\" heading."
   ]
  },
  {
   "cell_type": "code",
   "execution_count": null,
   "metadata": {},
   "outputs": [],
   "source": [
    "ol?"
   ]
  },
  {
   "cell_type": "markdown",
   "metadata": {},
   "source": [
    "The cell below gives the IP cores a simpler alias so they can be more easily referenced."
   ]
  },
  {
   "cell_type": "code",
   "execution_count": null,
   "metadata": {},
   "outputs": [],
   "source": [
    "compSq = ol.compsquare_0\n",
    "mag = ol.magnitude_0"
   ]
  },
  {
   "cell_type": "markdown",
   "metadata": {},
   "source": [
    "This cell defines functions to make it easier to use the IP cores, as well as a function for converting unsigned numbers to signed."
   ]
  },
  {
   "cell_type": "code",
   "execution_count": null,
   "metadata": {},
   "outputs": [],
   "source": [
    "def to_signed(val,b):\n",
    "    signedVal = val-(2**b)*int(str((val)>>b-1))\n",
    "    return signedVal\n",
    "\n",
    "def square(z):\n",
    "    compSq.write(0x00, int((z.real*2**(16)))) #real input\n",
    "    compSq.write(0x04, int((z.imag*2**(16)))) #imaginary input\n",
    "    re = to_signed(compSq.read(0x0C),32)*2**(-16)\n",
    "    im = to_signed(compSq.read(0x08),32)*2**(-16)\n",
    "    sq = complex(re,im) #output\n",
    "    return sq\n",
    "\n",
    "def magnitude(z):\n",
    "    mag.write(0x00, abs(int((z.real*2**(16))))) #real input\n",
    "    mag.write(0x04, abs(int((z.imag*2**(16)))))#imaginary input\n",
    "    magnitude = ((mag.read(0x08))*2**(-16))\n",
    "    return magnitude"
   ]
  },
  {
   "cell_type": "markdown",
   "metadata": {},
   "source": [
    "The writes to the IP cores are scaled by a factor of $2^{16}$ to allow for the fractional part of the answer.\n",
    "Similarly, the values read from the IP core are scaled by a factor of $2^{-16}$."
   ]
  },
  {
   "cell_type": "markdown",
   "metadata": {},
   "source": [
    "The cell below defines the mandelbrot function using the functions of the IP cores."
   ]
  },
  {
   "cell_type": "code",
   "execution_count": null,
   "metadata": {},
   "outputs": [],
   "source": [
    "def mandelbrotPL(Re,Im,max_iter):\n",
    "    c = complex(Re,Im)\n",
    "    z = complex(0,0)\n",
    "    for i in range(max_iter):\n",
    "        z = square(z) + c\n",
    "        if (magnitude(z) > 2):\n",
    "            return i\n",
    "    return max_iter"
   ]
  },
  {
   "cell_type": "markdown",
   "metadata": {},
   "source": [
    "The third cell creates the plot for the Mandelbrot Set."
   ]
  },
  {
   "cell_type": "markdown",
   "metadata": {},
   "source": [
    "The numbers of iterations that will be run for each pixel can be adjusted using a slider widget. This ranges from 5 to 50 to allow the user to see the effect of altering the number of iterations. "
   ]
  },
  {
   "cell_type": "markdown",
   "metadata": {},
   "source": [
    "Set the iteration value using the slider and then run by pressing the button. Note that higher numbers of iterations will take significantly longer to run."
   ]
  },
  {
   "cell_type": "code",
   "execution_count": null,
   "metadata": {},
   "outputs": [],
   "source": [
    "def updatePL(Iterations):\n",
    "    cols = 200\n",
    "    rows = 200\n",
    "    result = numpy.zeros([rows,cols])\n",
    "    for row_index, Re in enumerate(numpy.linspace(-2,1,num=rows)):\n",
    "        for col_index, Im in enumerate(numpy.linspace(-1,1,num=cols)):\n",
    "            result[row_index,col_index] = mandelbrotPL(Re,Im,Iterations)\n",
    "    plt.figure(dpi=150)\n",
    "    plt.imshow(result.T,cmap=\"jet\",extent=[-2,1,-1,1])\n",
    "    plt.xlabel(\"Re\")\n",
    "    plt.ylabel(\"Im\")\n",
    "    plt.show()\n",
    "\n",
    "ite = widgets.IntSlider(min=5,max=50,step=1,value=25)\n",
    "interact_manual(updatePL, Iterations=ite);"
   ]
  },
  {
   "cell_type": "markdown",
   "metadata": {},
   "source": [
    "The above image shows the plot for the Mandelbrot set as created using the PYNQ board's programmable logic."
   ]
  },
  {
   "cell_type": "markdown",
   "metadata": {},
   "source": [
    "It can be seen that the above version of the code runs much slower than the code running all on the Processing System of the PYNQ board. This is due to the AXI-Lite interface used to go between the PL and PS. The additional delay is not noticeable in smaller programs run only once, however, as this program involves many iterations of the same function, the time adds up to a large delay. This could be improved in further work by parallelising the design so that it works on multiple pixels at any one time, or by implementing the AXI stream interface. "
   ]
  },
  {
   "cell_type": "markdown",
   "metadata": {},
   "source": [
    "## References"
   ]
  },
  {
   "cell_type": "markdown",
   "metadata": {},
   "source": [
    "[1] Lyons, Richard G. Understanding Digital Signal Processing, section 13.2. Prentice Hall, 2004 ISBN 0-13-108989-7."
   ]
  }
 ],
 "metadata": {
  "kernelspec": {
   "display_name": "Python 3",
   "language": "python",
   "name": "python3"
  },
  "language_info": {
   "codemirror_mode": {
    "name": "ipython",
    "version": 3
   },
   "file_extension": ".py",
   "mimetype": "text/x-python",
   "name": "python",
   "nbconvert_exporter": "python",
   "pygments_lexer": "ipython3",
   "version": "3.6.5"
  }
 },
 "nbformat": 4,
 "nbformat_minor": 4
}
