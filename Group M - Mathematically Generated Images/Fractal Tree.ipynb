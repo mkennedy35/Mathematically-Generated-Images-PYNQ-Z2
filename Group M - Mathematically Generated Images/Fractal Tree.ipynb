{
 "cells": [
  {
   "cell_type": "markdown",
   "metadata": {},
   "source": [
    "# Fractal Tree"
   ]
  },
  {
   "cell_type": "markdown",
   "metadata": {},
   "source": [
    "## Background"
   ]
  },
  {
   "cell_type": "markdown",
   "metadata": {},
   "source": [
    "Fractal Trees are images with a self-repeating structure. In this case the structure is repeated as each branch is a repetition of the initial trunk of the tree. At the end of each branch, two more branches begin, where these branches are smaller versions of the branch they came from. This is done using recursion, which is where a solution to a problem relies on solving smaller instances of the same problem. In this scenario, it is done by calling the function to draw a tree from within itself in order to draw the two new branches. An example of a fractal tree is shown in the image below. "
   ]
  },
  {
   "cell_type": "markdown",
   "metadata": {},
   "source": [
    "<img src=\"images/treeExample.png\"/>"
   ]
  },
  {
   "cell_type": "markdown",
   "metadata": {},
   "source": [
    "## Software Version"
   ]
  },
  {
   "cell_type": "markdown",
   "metadata": {},
   "source": [
    "The code below uses the Python Image Library (PIL) to create a fractal tree. The two sliders select the recursion depth and spread of the fractal."
   ]
  },
  {
   "cell_type": "code",
   "execution_count": null,
   "metadata": {},
   "outputs": [],
   "source": [
    "import colorsys\n",
    "from math import *\n",
    "from PIL import Image as IM, ImageDraw\n",
    "from IPython.display import display\n",
    "from ipywidgets import *\n",
    "\n",
    "# function to draw tree\n",
    "# uses recursion to draw trees at end of each branch\n",
    "def drawTree(x1, y1, angle, depth, maxd, spread, len):\n",
    "    #check recursion depth, if 0 then does nothing\n",
    "    if depth > 0:\n",
    "        # (x1,y1) is start point of branch\n",
    "        # (x2,y2) is end point of branch\n",
    "        \n",
    "        # calculate end point of branch\n",
    "        x2 = x1 + cos(radians(angle)) * len * depth\n",
    "        y2 = y1 + sin(radians(angle)) * len * depth\n",
    " \n",
    "        # uses depth/maxDepth for Hue value then converts to RGB \n",
    "        # means that each level of branches is a different colour\n",
    "        r, g, b = colorsys.hsv_to_rgb((float(depth) / maxd) , 1.0, 1.0)\n",
    "        R, G, B = int(255 * r), int(255 * g), int(255 * b)\n",
    " \n",
    "        # draw branch\n",
    "        d.line([x1, y1, x2, y2], (R, G, B), depth)\n",
    " \n",
    "        # recursively call function to append 2 new trees to end of branch\n",
    "        drawTree(x2, y2, angle - spread, depth - 1, maxd, spread, len)\n",
    "        drawTree(x2, y2, angle + spread, depth - 1, maxd, spread, len)\n",
    "\n",
    "#function for updating image\n",
    "#runs when slider values changed\n",
    "def update(Depth,Spread):\n",
    "    length = 7\n",
    "    d = ImageDraw.Draw(img)\n",
    "    d.rectangle((0, height,width ,0), fill=(0, 0, 0)) #black rectangle to \"clear\" drawings\n",
    "    drawTree(width/2,height*0.9,-90,Depth,Depth,Spread,length) #call function to draw tree\n",
    "    img.save(\"Tree.png\", \"PNG\") #save image locally\n",
    "    fractalImage = IM.open('Tree.png') \n",
    "    display(fractalImage) #show image in notebook interface\n",
    "\n",
    "width = 600\n",
    "height = 480\n",
    "img = IM.new('RGB', (width, height)) #create new image\n",
    "d = ImageDraw.Draw(img) #create new drawing object\n",
    "\n",
    "#set up sliders for interaction\n",
    "maxDepth = widgets.IntSlider(min=1,max=10,step=1,value=8)\n",
    "spread = widgets.IntSlider(min=0,max=45,step=1,value=15)\n",
    "interact(update, Depth = maxDepth, Spread = spread);"
   ]
  },
  {
   "cell_type": "markdown",
   "metadata": {},
   "source": [
    "## Hardware Version"
   ]
  },
  {
   "cell_type": "markdown",
   "metadata": {},
   "source": [
    "In order to off-load some processing on to the PL of the PYNQ board, an IP core was made to approximate the sine and cosine of a given angle using CORDIC. Sine and Cosine are used in the drawTree function in order to calculate the endpoint of each branch. CORDIC stands for COordinate Rotation DIgital Computer [1]. It can be used to calculate hyperbolic and trigonometric functions and is well suited to FPGAs as the only operations it requires are addition, subtraction, bitshift and table lookup, and as such works well with fixed point numbers. The IP was developed using the CORDIC 6.0 System Generator block [2]."
   ]
  },
  {
   "cell_type": "markdown",
   "metadata": {},
   "source": [
    "The IP design is shown below."
   ]
  },
  {
   "cell_type": "markdown",
   "metadata": {},
   "source": [
    "<img src=\"images/cordicsincos.png\"/>"
   ]
  },
  {
   "cell_type": "markdown",
   "metadata": {},
   "source": [
    "This design takes in an angle in radians, and returns 2 values, being the cosine and sine of the angle, respectively."
   ]
  },
  {
   "cell_type": "markdown",
   "metadata": {},
   "source": [
    "The simulation ran in Simulink shown above takes an input of 0 and scales it by $2^{13}$ to allow for 13 fractional bits. The correct outputs for $sin(0)$ and $cos(0)$ are 0 and 1, respectively. The IP design gives answers of -0.003174 and 0.9999, which are very close to the exact answer, and as such will be accurate enough for our purposes."
   ]
  },
  {
   "cell_type": "markdown",
   "metadata": {},
   "source": [
    "The IP core was added to a Vivado block diagram along with a Zynq 7 PS to make form the block diagram shown below."
   ]
  },
  {
   "cell_type": "markdown",
   "metadata": {},
   "source": [
    "<img src=\"images/blockDiagramTree.png\"/>"
   ]
  },
  {
   "cell_type": "markdown",
   "metadata": {},
   "source": [
    "After validating the design, the HDL wrapper was created in Vivado, before creating the bitstream (.bit), hardware hand-off (.hwh) and Tcl files. These three files were uploaded to the storage of the PYNQ board for use in this project."
   ]
  },
  {
   "cell_type": "markdown",
   "metadata": {},
   "source": [
    "### Program"
   ]
  },
  {
   "cell_type": "markdown",
   "metadata": {},
   "source": [
    "Import overlay class and create new overlay using bitstream file."
   ]
  },
  {
   "cell_type": "code",
   "execution_count": null,
   "metadata": {},
   "outputs": [],
   "source": [
    "from pynq import Overlay\n",
    "ol = Overlay(\"design_tree_wrapper.bit\")"
   ]
  },
  {
   "cell_type": "markdown",
   "metadata": {},
   "source": [
    "The below cell creates a report of the overlay, which shows the CORDIC Sine Cosine algorithm"
   ]
  },
  {
   "cell_type": "code",
   "execution_count": null,
   "metadata": {},
   "outputs": [],
   "source": [
    "ol?"
   ]
  },
  {
   "cell_type": "markdown",
   "metadata": {},
   "source": [
    "Create simpler alias for IP core"
   ]
  },
  {
   "cell_type": "code",
   "execution_count": null,
   "metadata": {},
   "outputs": [],
   "source": [
    "sin_cos = ol.cordic_sin_cos_0"
   ]
  },
  {
   "cell_type": "markdown",
   "metadata": {},
   "source": [
    "The below cell defines functions to make it easier to use the IP core, as well as a function for converting unsigned numbers to signed. Inputs are scaled by $2^{13}$ and outputs by $2^{-14}$ to account for fractional parts of the numbers."
   ]
  },
  {
   "cell_type": "code",
   "execution_count": null,
   "metadata": {},
   "outputs": [],
   "source": [
    "from math import *\n",
    "def to_signed(val,b):\n",
    "    signedVal = val-(2**b)*int(str((val)>>b-1))\n",
    "    return signedVal\n",
    "\n",
    "def sinPL(angle):\n",
    "    sin_cos.write(0x00,int((angle*2**(13))))\n",
    "    sin = to_signed(sin_cos.read(0x08),32)*2**(-14)\n",
    "    return sin\n",
    "\n",
    "def cosPL(angle):\n",
    "    sin_cos.write(0x00,int((angle*2**(13))))\n",
    "    cos = to_signed(sin_cos.read(0x04),32)*2**(-14)\n",
    "    return cos\n"
   ]
  },
  {
   "cell_type": "code",
   "execution_count": null,
   "metadata": {},
   "outputs": [],
   "source": [
    "import colorsys\n",
    "from math import *\n",
    "from PIL import Image as IM, ImageDraw\n",
    "from IPython.display import display\n",
    "from ipywidgets import *\n",
    "\n",
    "# function to draw tree\n",
    "# uses recursion to draw trees at end of each branch\n",
    "def drawTreePL(x1, y1, angle, depth, maxd, spread, len):\n",
    "    #check recursion depth, if 0 then does nothing\n",
    "    if depth > 0:\n",
    "        # convert angle to radians\n",
    "        angleRad = radians(angle)\n",
    "        #use IP core to calculate sine and cosine of angle\n",
    "        #if structure is a workaround for fact that CORDIC only works\n",
    "        #for inputs between -180 and 180 degrees\n",
    "        #not elegant but it does solve the issue\n",
    "        if angleRad < -(2*pi):\n",
    "            angleRad = angleRad + 2*pi\n",
    "        elif angleRad > (2*pi):\n",
    "            angleRad = angleRad - 2*pi\n",
    "        if angleRad < -pi:\n",
    "            #print(\"Less than -pi\",angleRad)\n",
    "            cosAngle = cosPL(2*pi - abs(angleRad))\n",
    "            sinAngle = sinPL((-angleRad) - pi)\n",
    "        elif angleRad > pi:\n",
    "            #print(\"more than pi\",angleRad)\n",
    "            cosAngle = cosPL(2*pi- abs(angleRad))\n",
    "            sinAngle = sinPL(pi - abs(angleRad))\n",
    "        else:\n",
    "            #print(\"no condition\",angleRad)\n",
    "            cosAngle = cosPL(angleRad)\n",
    "            sinAngle = sinPL(angleRad)            \n",
    "              \n",
    "        # length multiplied by depth so branches get shorter towards end of tree\n",
    "        # (x1,y1) is start point of branch\n",
    "        # (x2,y2) is end point of branch        \n",
    "        x2 = x1 + cosAngle * depth * len\n",
    "        y2 = y1 + sinAngle * depth * len\n",
    " \n",
    "        # uses depth/maxDepth for Hue value then converts to RGB \n",
    "        # means that each level of branches is a different colour\n",
    "        r, g, b = colorsys.hsv_to_rgb((float(depth) / maxd) , 1.0, 1.0)\n",
    "        R, G, B = int(255 * r), int(255 * g), int(255 * b)\n",
    " \n",
    "        # draw branch\n",
    "        d.line([x1, y1, x2, y2], (R, G, B), depth)\n",
    " \n",
    "        # recursively call function to append 2 new trees to end of branch\n",
    "        drawTreePL(x2, y2, angle-spread, depth - 1, maxd, spread, len)\n",
    "        drawTreePL(x2, y2, angle+spread, depth - 1, maxd, spread, len)\n",
    "\n",
    "#function for updating image\n",
    "#runs when slider values changed\n",
    "def updatePL(Depth,Spread):\n",
    "    length = 7\n",
    "    d = ImageDraw.Draw(img)\n",
    "    d.rectangle((0, height,width ,0), fill=(0, 0, 0)) #black rectangle to \"clear\" drawings\n",
    "    drawTreePL(width/2,height*0.9,-90,Depth,Depth,Spread,length) #call function to draw tree\n",
    "    img.save(\"TreePL.png\", \"PNG\") #save image locally\n",
    "    fractalImage = IM.open('TreePL.png') \n",
    "    display(fractalImage) #show image in notebook interface\n",
    "\n",
    "width = 600\n",
    "height = 480\n",
    "img = IM.new('RGB', (width, height)) #create new image\n",
    "d = ImageDraw.Draw(img) #create new drawing object\n",
    "\n",
    "#set up sliders for interaction\n",
    "maxDepth = widgets.IntSlider(min=1,max=10,step=1,value=8)\n",
    "spread = widgets.IntSlider(min=0,max=45,step=1,value=15)\n",
    "interact(updatePL, Depth = maxDepth, Spread = spread);"
   ]
  },
  {
   "cell_type": "markdown",
   "metadata": {},
   "source": [
    "Further work to improve the design could be implementing the AXI-Stream interface instead of AXI4-Lite in order to speed up execution. Another possibility could be to implement multi-threading on the PS and parallel computing, for example to compute the next two branches at one time. This could significantly reduce execution time, as well as improving the smoothness and responsiveness of the interactive plot."
   ]
  },
  {
   "cell_type": "markdown",
   "metadata": {},
   "source": [
    "## References"
   ]
  },
  {
   "cell_type": "markdown",
   "metadata": {},
   "source": [
    "[1] J. E. Volder, \"The CORDIC Trigonometric Computing Technique,\" in IRE Transactions on Electronic Computers, vol. EC-8, no. 3, pp. 330-334, Sept. 1959, doi: 10.1109/TEC.1959.5222693.\n",
    "\n",
    "[2] CORDIC v6.0 LogiCORE IP Product Guide https://www.xilinx.com/support/documentation/ip_documentation/cordic/v6_0/pg105-cordic.pdf"
   ]
  }
 ],
 "metadata": {
  "kernelspec": {
   "display_name": "Python 3",
   "language": "python",
   "name": "python3"
  },
  "language_info": {
   "codemirror_mode": {
    "name": "ipython",
    "version": 3
   },
   "file_extension": ".py",
   "mimetype": "text/x-python",
   "name": "python",
   "nbconvert_exporter": "python",
   "pygments_lexer": "ipython3",
   "version": "3.6.5"
  }
 },
 "nbformat": 4,
 "nbformat_minor": 2
}
